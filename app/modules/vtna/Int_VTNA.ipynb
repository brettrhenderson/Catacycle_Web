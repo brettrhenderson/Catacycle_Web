{
 "cells": [
  {
   "cell_type": "code",
   "execution_count": 1,
   "metadata": {
    "collapsed": true
   },
   "outputs": [],
   "source": [
    "import numpy as np\n",
    "import matplotlib.pyplot as plt\n",
    "import pandas as pd\n",
    "from ipywidgets import interactive\n",
    "import ipywidgets"
   ]
  },
  {
   "cell_type": "code",
   "execution_count": 2,
   "metadata": {},
   "outputs": [
    {
     "name": "stdout",
     "output_type": "stream",
     "text": [
      "full name of excel file: sampledata/VTNA329.xlsx\n"
     ]
    }
   ],
   "source": [
    "#get file\n",
    "#print(\"import your data.xlsx, .xls, or .csv to your working directory\\nensure columns are correctly formatted:\\nsheet 1:\\tt1\\t[A1]\\t[B1]\\t...\\nsheet 2:\\tt2\\t[A2]\\t[B2]\\n...\")\n",
    "filename = input('full name of excel file: ')\n",
    "xl = pd.ExcelFile(filename)\n",
    "R = []\n",
    "#import excel sheets of reaction 1 and 2\n",
    "for i in range(len(xl.sheet_names)):\n",
    "    R.append(pd.read_excel(filename, i))\n",
    "    #print(\"\\ncolumns read from experiment 1: \\n{}\".format(str(R.columns)[7:-18]))"
   ]
  },
  {
   "cell_type": "code",
   "execution_count": 28,
   "metadata": {
    "collapsed": true
   },
   "outputs": [],
   "source": [
    "concs = [0.0510,0.0578,0.0688,0.0750,0.104,0.125,0.127,0.142]"
   ]
  },
  {
   "cell_type": "code",
   "execution_count": 151,
   "metadata": {},
   "outputs": [
    {
     "name": "stdout",
     "output_type": "stream",
     "text": [
      "value (unitless) for relative concentration of reagent/catalyst in 1mM acting on column 2: 2\n",
      "value (unitless) for relative concentration of reagent/catalyst in 2mM acting on column 2: 1\n"
     ]
    }
   ],
   "source": [
    "#user input on Normalization Type\n",
    "conc = []\n",
    "#normalization_method = input('MV, TC or no normalization? ')\n",
    "for i in range(len(xl.sheet_names)):\n",
    "    conc.append(float(input(\"value (unitless) for relative concentration of reagent/catalyst in {} acting on column {}: \".format(xl.sheet_names[i], j))))"
   ]
  },
  {
   "cell_type": "code",
   "execution_count": 9,
   "metadata": {},
   "outputs": [
    {
     "name": "stdout",
     "output_type": "stream",
     "text": [
      "normalization method (Total count, Max Value or none): TC\n"
     ]
    }
   ],
   "source": [
    "normalization_method = input(\"normalization method (Total count, Max Value or none): \")"
   ]
  },
  {
   "cell_type": "code",
   "execution_count": 61,
   "metadata": {
    "collapsed": true
   },
   "outputs": [],
   "source": [
    "#produce a column summing all counts at each \n",
    "# timestep for total ion count normalization \n",
    "def get_TC(df):\n",
    "    totaled = np.zeros(len(df))\n",
    "    for j,col in enumerate(df.columns):\n",
    "        if j > 0:\n",
    "            totaled += df[col]\n",
    "    return totaled\n",
    "\n",
    "def testtc(df):\n",
    "    return df.values[:, 1:].sum(axis=1)"
   ]
  },
  {
   "cell_type": "code",
   "execution_count": 62,
   "metadata": {},
   "outputs": [
    {
     "data": {
      "text/plain": [
       "(array([1.48390212e+09, 1.45677926e+09, 1.43327061e+09, ...,\n",
       "        2.18500000e+03, 0.00000000e+00, 0.00000000e+00]), 0       1.483902e+09\n",
       " 1       1.456779e+09\n",
       " 2       1.433271e+09\n",
       " 3       1.408587e+09\n",
       " 4       1.408728e+09\n",
       " 5       1.390438e+09\n",
       " 6       1.427581e+09\n",
       " 7       1.410475e+09\n",
       " 8       1.380107e+09\n",
       " 9       1.396579e+09\n",
       " 10      1.409223e+09\n",
       " 11      1.420670e+09\n",
       " 12      1.387051e+09\n",
       " 13      1.408200e+09\n",
       " 14      1.414728e+09\n",
       " 15      1.421409e+09\n",
       " 16      1.436921e+09\n",
       " 17      1.415392e+09\n",
       " 18      1.407282e+09\n",
       " 19      1.413721e+09\n",
       " 20      1.402761e+09\n",
       " 21      1.439611e+09\n",
       " 22      1.409119e+09\n",
       " 23      1.400934e+09\n",
       " 24      1.402680e+09\n",
       " 25      1.425287e+09\n",
       " 26      1.432466e+09\n",
       " 27      1.409471e+09\n",
       " 28      1.406858e+09\n",
       " 29      1.429986e+09\n",
       "             ...     \n",
       " 2911    1.833266e+08\n",
       " 2912    7.848593e+07\n",
       " 2913    7.682826e+07\n",
       " 2914    6.107564e+07\n",
       " 2915    3.674051e+07\n",
       " 2916    2.215154e+07\n",
       " 2917    1.865386e+07\n",
       " 2918    2.804460e+07\n",
       " 2919    9.046860e+06\n",
       " 2920    2.420024e+06\n",
       " 2921    0.000000e+00\n",
       " 2922    0.000000e+00\n",
       " 2923    1.893000e+03\n",
       " 2924    0.000000e+00\n",
       " 2925    0.000000e+00\n",
       " 2926    0.000000e+00\n",
       " 2927    0.000000e+00\n",
       " 2928    2.185000e+03\n",
       " 2929    0.000000e+00\n",
       " 2930    0.000000e+00\n",
       " 2931    5.541000e+03\n",
       " 2932    0.000000e+00\n",
       " 2933    0.000000e+00\n",
       " 2934    1.893000e+03\n",
       " 2935    4.078000e+03\n",
       " 2936    0.000000e+00\n",
       " 2937    5.834000e+03\n",
       " 2938    2.185000e+03\n",
       " 2939    0.000000e+00\n",
       " 2940    0.000000e+00\n",
       " Name: 329, Length: 2941, dtype: float64)"
      ]
     },
     "execution_count": 62,
     "metadata": {},
     "output_type": "execute_result"
    }
   ],
   "source": [
    "testtc(R[1]), get_TC(R[1])"
   ]
  },
  {
   "cell_type": "code",
   "execution_count": 65,
   "metadata": {},
   "outputs": [],
   "source": [
    "#if statements for possible normalization routes\n",
    "Total = []\n",
    "if normalization_method == \"TC\":\n",
    "    for i in range(len(xl.sheet_names)):\n",
    "        Total.append(get_TC(R[i]))\n",
    "elif normalization_method == \"MV\":\n",
    "    for i in range(len(xl.sheet_names)):\n",
    "        Total.append(R[i].iloc[:, 1:].max().max())\n",
    "#if neither TC nor MV is selected, the operations of Total1 and Total2\n",
    "#will not change any values\n",
    "else:\n",
    "    Total = 1"
   ]
  },
  {
   "cell_type": "code",
   "execution_count": 68,
   "metadata": {
    "collapsed": true
   },
   "outputs": [],
   "source": [
    "#function that normalize all columns by the sum on that time step (excludes the time coumn in a sheet)\n",
    "def normalize_columns(sheetname, total):\n",
    "    sheetnorm = sheetname.copy()\n",
    "    for i,col in enumerate(sheetname.columns):\n",
    "        if i > 0:\n",
    "            sheetnorm.loc[:,col]/= total\n",
    "    return sheetnorm"
   ]
  },
  {
   "cell_type": "code",
   "execution_count": 75,
   "metadata": {},
   "outputs": [],
   "source": [
    "#function which creates an interactive plot for user to zero their data and smooth datapoints\n",
    "#inner function only passes variables assigned to widgets\n",
    "#outer function allows interactive function to be used multpile times\n",
    "def interact_smoother(sheetnorm, maxtime, title, color):\n",
    "    def plot_smoothing(windowsize,zero_translate):\n",
    "        plt.figure(figsize=(9,5))\n",
    "        for i,col in enumerate(sheetnorm.columns):\n",
    "            if i > 0:\n",
    "                orig = plt.scatter(sheetnorm.iloc[:,0], sheetnorm[col], marker='.', \n",
    "                         s=14, color='k', alpha = 0.4, label='original')\n",
    "                sheet_final = (sheetnorm[col]).rolling(windowsize, center=True).mean()\n",
    "                smooth = plt.scatter(sheetnorm.iloc[:,0]+zero_translate, sheet_final, marker='.', \n",
    "                         s=14, color=color, label='smoother')\n",
    "                plt.xlim((-maxtime/12,maxtime/4))\n",
    "        plt.vlines(0, 0, 1., linestyle=':', linewidth = 1, color = 'k')\n",
    "        plt.hlines(0, -maxtime/12,maxtime/4, linestyle=':', linewidth = 1, color = 'k')\n",
    "        plt.hlines(1, -maxtime/12,maxtime/4, linestyle=':', linewidth = 1, color = 'k')\n",
    "        plt.title(title, fontsize = 16)\n",
    "        plt.xlabel('time', fontsize = 16)\n",
    "        plt.ylabel('Relative Abundance', fontsize = 16)\n",
    "        plt.legend((orig, smooth), ('original', 'new plot'), loc = 'center right')\n",
    "        plt.tight_layout()\n",
    "        plt.show()\n",
    "    return interactive(plot_smoothing, windowsize=ipywidgets.IntSlider(min=1, max=80, step=3, value=1, \n",
    "                                                      description = 'smoothing', continuous_update=False), \n",
    "                       zero_translate=ipywidgets.FloatSlider(min=-maxtime/4, max=0, step=0.05, value=0,\n",
    "                                                        description='set t=0', continuous_update=False))"
   ]
  },
  {
   "cell_type": "code",
   "execution_count": 80,
   "metadata": {},
   "outputs": [
    {
     "data": {
      "application/vnd.jupyter.widget-view+json": {
       "model_id": "f923556554c743a5a59a618cc6f6f009",
       "version_major": 2,
       "version_minor": 0
      },
      "text/plain": [
       "A Jupyter Widget"
      ]
     },
     "metadata": {},
     "output_type": "display_data"
    },
    {
     "data": {
      "application/vnd.jupyter.widget-view+json": {
       "model_id": "373bb3603696481ca03c5b9a1432650a",
       "version_major": 2,
       "version_minor": 0
      },
      "text/plain": [
       "A Jupyter Widget"
      ]
     },
     "metadata": {},
     "output_type": "display_data"
    }
   ],
   "source": [
    "Rnorm = []\n",
    "for i in range(len(xl.sheet_names)):\n",
    "    Rnorm.append(normalize_columns(R[i], Total[i]))\n",
    "#find max time to scale axes\n",
    "maxtime = []\n",
    "for i in range(len(xl.sheet_names)):\n",
    "    maxtime.append(Rnorm[i].iloc[:,0].max())\n",
    "\n",
    "plot_smoothed = []\n",
    "for i in range(len(xl.sheet_names)):\n",
    "    plot_smoothed.append(interact_smoother(Rnorm[i], maxtime[i], 'Reaction {}'.format(i+1), 'r'))\n",
    "\n",
    "display(plot_smoothed[0])\n",
    "display(plot_smoothed[1])\n"
   ]
  },
  {
   "cell_type": "code",
   "execution_count": 159,
   "metadata": {
    "collapsed": true
   },
   "outputs": [],
   "source": [
    "#save adjustment values\n",
    "zeroed_time = []\n",
    "window = []\n",
    "for i in range(len(xl.sheet_names)):\n",
    "    zeroed_time.append(plot_smoothed[i].children[1].value)\n",
    "    window.append(plot_smoothed[i].children[0].value)\n",
    "\n",
    "#Adjust t0 in normalized sheets\n",
    "Rzeroed = []\n",
    "for i in range(len(xl.sheet_names)):\n",
    "    Rzeroed.append(Rnorm[i].copy())\n",
    "    Rzeroed[i].iloc[:,0]=(Rnorm[i].iloc[:,0] + zeroed_time[i])\n"
   ]
  },
  {
   "cell_type": "code",
   "execution_count": 160,
   "metadata": {},
   "outputs": [
    {
     "data": {
      "text/plain": [
       "2"
      ]
     },
     "execution_count": 160,
     "metadata": {},
     "output_type": "execute_result"
    }
   ],
   "source": [
    "len(Rzeroed)"
   ]
  },
  {
   "cell_type": "code",
   "execution_count": 161,
   "metadata": {},
   "outputs": [
    {
     "ename": "NameError",
     "evalue": "name 'OLd' is not defined",
     "output_type": "error",
     "traceback": [
      "\u001b[0;31m---------------------------------------------------------------------------\u001b[0m",
      "\u001b[0;31mNameError\u001b[0m                                 Traceback (most recent call last)",
      "\u001b[0;32m<ipython-input-161-2a04625e2d16>\u001b[0m in \u001b[0;36m<module>\u001b[0;34m()\u001b[0m\n\u001b[0;32m----> 1\u001b[0;31m \u001b[0mOLd\u001b[0m\u001b[0;31m#interactive plot to set time normalization\u001b[0m\u001b[0;34m\u001b[0m\u001b[0;34m\u001b[0m\u001b[0m\n\u001b[0m\u001b[1;32m      2\u001b[0m \u001b[0;32mdef\u001b[0m \u001b[0minteract_transform\u001b[0m\u001b[0;34m(\u001b[0m\u001b[0mRzeroed\u001b[0m\u001b[0;34m,\u001b[0m \u001b[0mconc\u001b[0m\u001b[0;34m,\u001b[0m \u001b[0mwindow\u001b[0m\u001b[0;34m)\u001b[0m\u001b[0;34m:\u001b[0m\u001b[0;34m\u001b[0m\u001b[0;34m\u001b[0m\u001b[0m\n\u001b[1;32m      3\u001b[0m     \u001b[0;32mdef\u001b[0m \u001b[0mtransform_plot\u001b[0m\u001b[0;34m(\u001b[0m\u001b[0mrxn_order\u001b[0m\u001b[0;34m)\u001b[0m\u001b[0;34m:\u001b[0m\u001b[0;34m\u001b[0m\u001b[0;34m\u001b[0m\u001b[0m\n\u001b[1;32m      4\u001b[0m         \u001b[0mplt\u001b[0m\u001b[0;34m.\u001b[0m\u001b[0mfigure\u001b[0m\u001b[0;34m(\u001b[0m\u001b[0mfigsize\u001b[0m\u001b[0;34m=\u001b[0m\u001b[0;34m(\u001b[0m\u001b[0;36m10\u001b[0m\u001b[0;34m,\u001b[0m\u001b[0;36m7\u001b[0m\u001b[0;34m)\u001b[0m\u001b[0;34m)\u001b[0m\u001b[0;34m\u001b[0m\u001b[0;34m\u001b[0m\u001b[0m\n\u001b[1;32m      5\u001b[0m         \u001b[0msheet_final\u001b[0m \u001b[0;34m=\u001b[0m \u001b[0;34m[\u001b[0m\u001b[0;34m]\u001b[0m\u001b[0;34m\u001b[0m\u001b[0;34m\u001b[0m\u001b[0m\n",
      "\u001b[0;31mNameError\u001b[0m: name 'OLd' is not defined"
     ]
    }
   ],
   "source": [
    "OLd#interactive plot to set time normalization\n",
    "def interact_transform(Rzeroed, conc, window):\n",
    "    def transform_plot(rxn_order):\n",
    "        plt.figure(figsize=(10,7))\n",
    "        sheet_final = []\n",
    "        t_vtna = []\n",
    "        for i in range(len(Rzeroed)):\n",
    "            for j,col in enumerate(Rzeroed[i].columns):\n",
    "                if j > 0:\n",
    "                    sheet_final.append(Rzeroed[i][col].rolling(window[i]).mean())\n",
    "                    t_vtna.append(Rzeroed[i].iloc[:,0]*float(conc[i])**rxn_order)\n",
    "                    plt.scatter(t_vtna[i], sheet_final[i], marker='.',s = 15, color = 'r')\n",
    "        val = []\n",
    "        for i in range(len(Rzeroed)):\n",
    "            val.append((Rzeroed[i].iloc[:,0]*float(conc[i])**rxn_order).max())\n",
    "            endtime = max(val)\n",
    "        plt.xlim(-endtime/10, endtime+endtime/10)\n",
    "        plt.title('VTNA with {}. Order Treatment'.format(rxn_order))\n",
    "        plt.ylabel('Relative Abundance')\n",
    "        #three curly brackets for formatting decimale numbers as superscript\n",
    "        plt.xlabel('[Reagent]$^{{{}}}$dt'.format(str(rxn_order)))\n",
    "        #plt.legend([plot1,plot2],[str(conc)+' mM', str(conc2)+ ' mM'],loc = 'best')\n",
    "        plt.rc('font', size=14)\n",
    "        plt.tight_layout(True)\n",
    "        plt.show()\n",
    "    return interactive(transform_plot, \n",
    "                        rxn_order = ipywidgets.FloatSlider(min=0., max=3., step=0.01, value=0, \n",
    "                                                           description='Order', continuous_update=False))"
   ]
  },
  {
   "cell_type": "code",
   "execution_count": 162,
   "metadata": {
    "collapsed": true
   },
   "outputs": [],
   "source": [
    "#interactive plot to set time normalization\n",
    "def interact_transform(Rzeroed, conc, window):\n",
    "    def transform_plot(rxn_order):\n",
    "        plt.figure(figsize=(10,7))\n",
    "        sheet_final = []\n",
    "        t_vtna = []\n",
    "        for i in range(len(Rzeroed)):\n",
    "            for j,col in enumerate(Rzeroed[i].columns):\n",
    "                if j > 0:\n",
    "                    #sheet_final.append(Rzeroed[i][col].rolling(window[i]).mean())\n",
    "                    #t_vtna.append(Rzeroed[i].loc[:,0]*float(conc[i])**rxn_order)\n",
    "                    t_vtna = Rzeroed[i].iloc[:,0]*float(conc[i])**rxn_order\n",
    "                    smoothed = Rzeroed[i][col].rolling(window[i]).mean()\n",
    "                    plt.scatter(t_vtna, smoothed, marker='.',s = 15)\n",
    "        val = []\n",
    "        for i in range(len(Rzeroed)):\n",
    "            val.append((Rzeroed[i].iloc[:,0]*float(conc[i])**rxn_order).max())\n",
    "            endtime = max(val)\n",
    "        plt.xlim(-endtime/10, endtime+endtime/10)\n",
    "        plt.title('VTNA with {}. Order Treatment'.format(rxn_order))\n",
    "        plt.ylabel('Relative Abundance')\n",
    "        #three curly brackets for formatting decimale numbers as superscript\n",
    "        plt.xlabel('[Reagent]$^{{{}}}$dt'.format(str(rxn_order)))\n",
    "        #plt.legend([plot1,plot2],[str(conc)+' mM', str(conc2)+ ' mM'],loc = 'best')\n",
    "        plt.rc('font', size=14)\n",
    "        plt.tight_layout(True)\n",
    "        plt.show()\n",
    "    return interactive(transform_plot, \n",
    "                        rxn_order = ipywidgets.FloatSlider(min=0., max=3., step=0.01, value=0, \n",
    "                                                           description='Order', continuous_update=False))\n",
    "\n"
   ]
  },
  {
   "cell_type": "code",
   "execution_count": 163,
   "metadata": {
    "scrolled": true
   },
   "outputs": [
    {
     "data": {
      "application/vnd.jupyter.widget-view+json": {
       "model_id": "c6cdabf5e460469fb1c47e3641c32fa8",
       "version_major": 2,
       "version_minor": 0
      },
      "text/plain": [
       "A Jupyter Widget"
      ]
     },
     "metadata": {},
     "output_type": "display_data"
    }
   ],
   "source": [
    "trans = interact_transform(Rzeroed, conc, window)\n",
    "display(trans)"
   ]
  },
  {
   "cell_type": "code",
   "execution_count": 142,
   "metadata": {},
   "outputs": [
    {
     "name": "stdout",
     "output_type": "stream",
     "text": [
      "Your Reaction is 1.0. Order in Reagent\n",
      "\n"
     ]
    }
   ],
   "source": [
    "order = trans.children[0].value\n",
    "print(\"Your Reaction is {}. Order in Reagent\\n\".format(order))"
   ]
  },
  {
   "cell_type": "code",
   "execution_count": 143,
   "metadata": {},
   "outputs": [
    {
     "data": {
      "image/png": "[encoded data removed]",
      "text/plain": [
       "<Figure size 720x504 with 1 Axes>"
      ]
     },
     "metadata": {},
     "output_type": "display_data"
    }
   ],
   "source": [
    "#generate a final plot\n",
    "plt.figure(figsize=(10,7))\n",
    "R_final = []\n",
    "t_vtna = []\n",
    "for h in range(len(xl.sheet_names)):\n",
    "    for i,col in enumerate(Rzeroed[h].columns):\n",
    "        if i > 0:\n",
    "            R_final.append(Rzeroed[h][col].rolling(1).mean())\n",
    "            t_vtna.append(Rzeroed[h].iloc[:,0]*float(conc[h])**order)\n",
    "            plt.scatter(t_vtna[h], R_final[h], marker='.', s = 30, color = 'r')\n",
    "val = []\n",
    "for i in range(len(xl.sheet_names)):\n",
    "    val.append((Rzeroed[i].iloc[:,0]*float(conc[i])**order).max())\n",
    "    endtime = max(val)\n",
    "plt.xlim(-endtime/10, endtime+endtime/10)\n",
    "plt.ylabel('Relative Abundance')\n",
    "plt.xlabel('[Reagent]$^{{{}}}$dt'.format(str(order)))\n",
    "#plt.legend([plot1,plot2],[str(conc1)+' mM', str(conc2)+ ' mM'],loc = 'best')\n",
    "plt.tight_layout(True)\n",
    "plt.rc('font', size=20)\n",
    "#plt.savefig('VTNA_rawplot.png', dpi=600, filetype = 'png')\n",
    "plt.show()\n"
   ]
  },
  {
   "cell_type": "code",
   "execution_count": 144,
   "metadata": {
    "collapsed": true
   },
   "outputs": [],
   "source": [
    "#save the new data\n",
    "data_out = []\n",
    "for i in range(len(xl.sheet_names)):\n",
    "    data_out.append(pd.concat([t_vtna[h],Rzeroed[h]], axis=1))\n",
    "with open(\"data_out.txt\", 'w') as output:\n",
    "    for row in data_out:\n",
    "        output.write(str(row) + '\\n')"
   ]
  },
  {
   "cell_type": "code",
   "execution_count": 187,
   "metadata": {
    "collapsed": true
   },
   "outputs": [],
   "source": [
    "#catalyst poisoning\n",
    "#marked by suppressed activity at low concentrations\n",
    "#treat by lowering the effective concentration\n",
    "#function which creates interactive plot\n",
    "#must know order of reaction\n",
    "def interact_poisoning(Rzeroed, conc, rxn_order, window1=10):\n",
    "    conc_min = min(conc)\n",
    "    def poisoned_plot(poison):\n",
    "        plt.figure(figsize=(10,7))\n",
    "        R_final = []\n",
    "        t_vtna = []\n",
    "        for h in range(len(xl.sheet_names)):\n",
    "            for i,col in enumerate(Rzeroed[h].columns):\n",
    "                if i > 0:\n",
    "                    R_final.append(Rzeroed[h][col].rolling(1).mean())\n",
    "                    t_vtna.append(Rzeroed[h].iloc[:,0]*float(conc[h]-poison)**order)\n",
    "                    plt.scatter(t_vtna[h], R_final[h], marker='.', s = 60)\n",
    "        val = []\n",
    "        for i in range(len(xl.sheet_names)):\n",
    "            val.append((Rzeroed[i].iloc[:,0]*float(conc[i])**order).max())\n",
    "            endtime = max(val)\n",
    "        plt.xlim(-endtime/10, endtime+endtime/10)\n",
    "        #plt.title('concentration units poisoning')\n",
    "        plt.ylabel('Relative Abundance')\n",
    "        #three curly brackets for formatting decimale numbers as superscript\n",
    "        plt.xlabel('[Catalyst-{}]$^{{{}}}$dt'.format(str(poison),str(rxn_order)))\n",
    "        #plt.legend([plot1,plot2],[str(conc1)+' mM', str(conc2)+ ' mM'],loc = 'best')\n",
    "        plt.rc('font', size=14)\n",
    "        plt.tight_layout(True)\n",
    "        plt.show()\n",
    "    return interactive(poisoned_plot, \n",
    "                        poison = ipywidgets.FloatSlider(min=0., max=conc_min, step=conc_min/500., value=0.000, \n",
    "                                                           description='{} - Posion'.format(conc_min), continuous_update=False))\n"
   ]
  },
  {
   "cell_type": "code",
   "execution_count": 188,
   "metadata": {},
   "outputs": [
    {
     "data": {
      "application/vnd.jupyter.widget-view+json": {
       "model_id": "696df0b018034fb7909a4b38914b0159",
       "version_major": 2,
       "version_minor": 0
      },
      "text/plain": [
       "A Jupyter Widget"
      ]
     },
     "metadata": {},
     "output_type": "display_data"
    }
   ],
   "source": [
    "poisonedor = interact_poisoning(Rzeroed, conc, order)\n",
    "display(poisonedor)"
   ]
  },
  {
   "cell_type": "code",
   "execution_count": 197,
   "metadata": {},
   "outputs": [
    {
     "data": {
      "text/plain": [
       "0.01306"
      ]
     },
     "execution_count": 197,
     "metadata": {},
     "output_type": "execute_result"
    }
   ],
   "source": [
    "poison = poisonedor.children[0].value\n",
    "poison"
   ]
  },
  {
   "cell_type": "code",
   "execution_count": 198,
   "metadata": {},
   "outputs": [
    {
     "data": {
      "image/png": "[encoded data removed]",
      "text/plain": [
       "<Figure size 720x504 with 1 Axes>"
      ]
     },
     "metadata": {},
     "output_type": "display_data"
    }
   ],
   "source": [
    "#generate a final plot\n",
    "plt.figure(figsize=(10,7))\n",
    "R_final = []\n",
    "t_vtna = []\n",
    "for h in range(len(xl.sheet_names)):\n",
    "    for i,col in enumerate(Rzeroed[h].columns):\n",
    "        if i > 0:\n",
    "            R_final.append(Rzeroed[h][col].rolling(1).mean())\n",
    "            t_vtna.append(Rzeroed[h].iloc[:,0]*float(conc[h]-poison)**order)\n",
    "            plt.scatter(t_vtna[h], R_final[h], marker='.', s = 60)\n",
    "val = []\n",
    "for i in range(len(xl.sheet_names)):\n",
    "    val.append((Rzeroed[i].iloc[:,0]*float(conc[i])**order).max())\n",
    "    endtime = max(val)\n",
    "plt.xlim(-endtime/10, endtime+endtime/10)\n",
    "plt.ylabel('Relative Abundance')\n",
    "plt.xlabel('[Catalyst - {} M]$^{{{}}}$dt'.format(poison,str(order)))\n",
    "#plt.legend([plot1,plot2],[str(conc1)+' mM', str(conc2)+ ' mM'],loc = 'best')\n",
    "plt.tight_layout(True)\n",
    "plt.rc('font', size=17)\n",
    "plt.savefig(\"1storder_fitpoison.png\", dpi = 200)\n",
    "plt.show()\n"
   ]
  },
  {
   "cell_type": "code",
   "execution_count": null,
   "metadata": {
    "collapsed": true
   },
   "outputs": [],
   "source": []
  }
 ],
 "metadata": {
  "kernelspec": {
   "display_name": "Python 3",
   "language": "python",
   "name": "python3"
  },
  "language_info": {
   "codemirror_mode": {
    "name": "ipython",
    "version": 3
   },
   "file_extension": ".py",
   "mimetype": "text/x-python",
   "name": "python",
   "nbconvert_exporter": "python",
   "pygments_lexer": "ipython3",
   "version": "3.6.8"
  }
 },
 "nbformat": 4,
 "nbformat_minor": 2
}
