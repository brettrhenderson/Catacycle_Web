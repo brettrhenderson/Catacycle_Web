{
 "cells": [
  {
   "cell_type": "code",
   "execution_count": 1,
   "metadata": {
    "collapsed": true
   },
   "outputs": [],
   "source": [
    "import numpy as np\n",
    "import matplotlib.pyplot as plt\n",
    "import pandas as pd\n",
    "from ipywidgets import interactive\n",
    "import ipywidgets"
   ]
  },
  {
   "cell_type": "code",
   "execution_count": 2,
   "metadata": {},
   "outputs": [
    {
     "name": "stdout",
     "output_type": "stream",
     "text": [
      "full name of excel file: sampledata/VTNA329.xlsx\n"
     ]
    }
   ],
   "source": [
    "#get file\n",
    "#print(\"import your data.xlsx, .xls, or .csv to your working directory\\nensure columns are correctly formatted:\\nsheet 1:\\tt1\\t[A1]\\t[B1]\\t...\\nsheet 2:\\tt2\\t[A2]\\t[B2]\\n...\")\n",
    "filename = input('full name of excel file: ')\n",
    "xl = pd.ExcelFile(filename)\n",
    "R = []\n",
    "#import excel sheets of reaction 1 and 2\n",
    "for i in range(len(xl.sheet_names)):\n",
    "    R.append(pd.read_excel(filename, i))\n",
    "    #print(\"\\ncolumns read from experiment 1: \\n{}\".format(str(R.columns)[7:-18]))"
   ]
  },
  {
   "cell_type": "code",
   "execution_count": 28,
   "metadata": {
    "collapsed": true
   },
   "outputs": [],
   "source": [
    "concs = [0.0510,0.0578,0.0688,0.0750,0.104,0.125,0.127,0.142]"
   ]
  },
  {
   "cell_type": "code",
   "execution_count": 4,
   "metadata": {},
   "outputs": [
    {
     "name": "stdout",
     "output_type": "stream",
     "text": [
      "value (unitless) for relative concentration of reagent/catalyst in 1mM: 2\n",
      "value (unitless) for relative concentration of reagent/catalyst in 2mM: 1\n"
     ]
    }
   ],
   "source": [
    "#user input on Normalization Type\n",
    "conc = []\n",
    "#normalization_method = input('MV, TC or no normalization? ')\n",
    "for i in range(len(xl.sheet_names)):\n",
    "    conc.append(float(input(\"value (unitless) for relative concentration of reagent/catalyst in {}: \".format(xl.sheet_names[i]))))"
   ]
  },
  {
   "cell_type": "code",
   "execution_count": 5,
   "metadata": {},
   "outputs": [
    {
     "name": "stdout",
     "output_type": "stream",
     "text": [
      "normalization method (Total count, Max Value or none): TC\n"
     ]
    }
   ],
   "source": [
    "normalization_method = input(\"normalization method (Total count, Max Value or none): \")"
   ]
  },
  {
   "cell_type": "code",
   "execution_count": 6,
   "metadata": {
    "collapsed": true
   },
   "outputs": [],
   "source": [
    "#produce a column summing all counts at each \n",
    "# timestep for total ion count normalization \n",
    "def get_TC(df):\n",
    "    totaled = np.zeros(len(df))\n",
    "    for j,col in enumerate(df.columns):\n",
    "        if j > 0:\n",
    "            totaled += df[col]\n",
    "    return totaled\n",
    "\n",
    "def testtc(df):\n",
    "    return df.values[:, 1:].sum(axis=1)"
   ]
  },
  {
   "cell_type": "code",
   "execution_count": 8,
   "metadata": {
    "collapsed": true
   },
   "outputs": [],
   "source": [
    "#if statements for possible normalization routes\n",
    "Total = []\n",
    "if normalization_method == \"TC\":\n",
    "    for i in range(len(xl.sheet_names)):\n",
    "        Total.append(get_TC(R[i]))\n",
    "elif normalization_method == \"MV\":\n",
    "    for i in range(len(xl.sheet_names)):\n",
    "        Total.append(R[i].iloc[:, 1:].max().max())\n",
    "#if neither TC nor MV is selected, the operations of Total1 and Total2\n",
    "#will not change any values\n",
    "else:\n",
    "    Total = 1"
   ]
  },
  {
   "cell_type": "code",
   "execution_count": 9,
   "metadata": {
    "collapsed": true
   },
   "outputs": [],
   "source": [
    "#function that normalize all columns by the sum on that time step (excludes the time coumn in a sheet)\n",
    "def normalize_columns(sheetname, total):\n",
    "    sheetnorm = sheetname.copy()\n",
    "    for i,col in enumerate(sheetname.columns):\n",
    "        if i > 0:\n",
    "            sheetnorm.loc[:,col]/= total\n",
    "    return sheetnorm"
   ]
  },
  {
   "cell_type": "code",
   "execution_count": 10,
   "metadata": {
    "collapsed": true
   },
   "outputs": [],
   "source": [
    "#function which creates an interactive plot for user to zero their data and smooth datapoints\n",
    "#inner function only passes variables assigned to widgets\n",
    "#outer function allows interactive function to be used multpile times\n",
    "def interact_smoother(sheetnorm, maxtime, title, color):\n",
    "    def plot_smoothing(windowsize,zero_translate):\n",
    "        plt.figure(figsize=(9,5))\n",
    "        for i,col in enumerate(sheetnorm.columns):\n",
    "            if i > 0:\n",
    "                orig = plt.scatter(sheetnorm.iloc[:,0], sheetnorm[col], marker='.', \n",
    "                         s=14, color='k', alpha = 0.4, label='original')\n",
    "                sheet_final = (sheetnorm[col]).rolling(windowsize, center=True).mean()\n",
    "                smooth = plt.scatter(sheetnorm.iloc[:,0]+zero_translate, sheet_final, marker='.', \n",
    "                         s=14, color=color, label='smoother')\n",
    "                plt.xlim((-maxtime/12,maxtime/4))\n",
    "        plt.vlines(0, 0, 1., linestyle=':', linewidth = 1, color = 'k')\n",
    "        plt.hlines(0, -maxtime/12,maxtime/4, linestyle=':', linewidth = 1, color = 'k')\n",
    "        plt.hlines(1, -maxtime/12,maxtime/4, linestyle=':', linewidth = 1, color = 'k')\n",
    "        plt.title(title, fontsize = 16)\n",
    "        plt.xlabel('time', fontsize = 16)\n",
    "        plt.ylabel('Relative Abundance', fontsize = 16)\n",
    "        plt.legend((orig, smooth), ('original', 'new plot'), loc = 'center right')\n",
    "        plt.tight_layout()\n",
    "        plt.show()\n",
    "    return interactive(plot_smoothing, windowsize=ipywidgets.IntSlider(min=1, max=80, step=3, value=1, \n",
    "                                                      description = 'smoothing', continuous_update=False), \n",
    "                       zero_translate=ipywidgets.FloatSlider(min=-maxtime/4, max=0, step=0.05, value=0,\n",
    "                                                        description='set t=0', continuous_update=False))"
   ]
  },
  {
   "cell_type": "code",
   "execution_count": 11,
   "metadata": {},
   "outputs": [
    {
     "data": {
      "application/vnd.jupyter.widget-view+json": {
       "model_id": "9ff860f31e6b414d9b7e14af1dd0c514",
       "version_major": 2,
       "version_minor": 0
      },
      "text/plain": [
       "A Jupyter Widget"
      ]
     },
     "metadata": {},
     "output_type": "display_data"
    },
    {
     "data": {
      "application/vnd.jupyter.widget-view+json": {
       "model_id": "be44907632b0488f9dae2df8509345c8",
       "version_major": 2,
       "version_minor": 0
      },
      "text/plain": [
       "A Jupyter Widget"
      ]
     },
     "metadata": {},
     "output_type": "display_data"
    }
   ],
   "source": [
    "Rnorm = []\n",
    "for i in range(len(xl.sheet_names)):\n",
    "    Rnorm.append(normalize_columns(R[i], Total[i]))\n",
    "#find max time to scale axes\n",
    "maxtime = []\n",
    "for i in range(len(xl.sheet_names)):\n",
    "    maxtime.append(Rnorm[i].iloc[:,0].max())\n",
    "\n",
    "plot_smoothed = []\n",
    "for i in range(len(xl.sheet_names)):\n",
    "    plot_smoothed.append(interact_smoother(Rnorm[i], maxtime[i], 'Reaction {}'.format(i+1), 'r'))\n",
    "\n",
    "display(plot_smoothed[0])\n",
    "display(plot_smoothed[1])\n"
   ]
  },
  {
   "cell_type": "code",
   "execution_count": 12,
   "metadata": {
    "collapsed": true
   },
   "outputs": [],
   "source": [
    "#save adjustment values\n",
    "zeroed_time = []\n",
    "window = []\n",
    "for i in range(len(xl.sheet_names)):\n",
    "    zeroed_time.append(plot_smoothed[i].children[1].value)\n",
    "    window.append(plot_smoothed[i].children[0].value)\n",
    "\n",
    "#Adjust t0 in normalized sheets\n",
    "Rzeroed = []\n",
    "for i in range(len(xl.sheet_names)):\n",
    "    Rzeroed.append(Rnorm[i].copy())\n",
    "    Rzeroed[i].iloc[:,0]=(Rnorm[i].iloc[:,0] + zeroed_time[i])\n"
   ]
  },
  {
   "cell_type": "code",
   "execution_count": 14,
   "metadata": {},
   "outputs": [
    {
     "ename": "NameError",
     "evalue": "name 'OLd' is not defined",
     "output_type": "error",
     "traceback": [
      "\u001b[0;31m---------------------------------------------------------------------------\u001b[0m",
      "\u001b[0;31mNameError\u001b[0m                                 Traceback (most recent call last)",
      "\u001b[0;32m<ipython-input-14-2a04625e2d16>\u001b[0m in \u001b[0;36m<module>\u001b[0;34m()\u001b[0m\n\u001b[0;32m----> 1\u001b[0;31m \u001b[0mOLd\u001b[0m\u001b[0;31m#interactive plot to set time normalization\u001b[0m\u001b[0;34m\u001b[0m\u001b[0;34m\u001b[0m\u001b[0m\n\u001b[0m\u001b[1;32m      2\u001b[0m \u001b[0;32mdef\u001b[0m \u001b[0minteract_transform\u001b[0m\u001b[0;34m(\u001b[0m\u001b[0mRzeroed\u001b[0m\u001b[0;34m,\u001b[0m \u001b[0mconc\u001b[0m\u001b[0;34m,\u001b[0m \u001b[0mwindow\u001b[0m\u001b[0;34m)\u001b[0m\u001b[0;34m:\u001b[0m\u001b[0;34m\u001b[0m\u001b[0;34m\u001b[0m\u001b[0m\n\u001b[1;32m      3\u001b[0m     \u001b[0;32mdef\u001b[0m \u001b[0mtransform_plot\u001b[0m\u001b[0;34m(\u001b[0m\u001b[0mrxn_order\u001b[0m\u001b[0;34m)\u001b[0m\u001b[0;34m:\u001b[0m\u001b[0;34m\u001b[0m\u001b[0;34m\u001b[0m\u001b[0m\n\u001b[1;32m      4\u001b[0m         \u001b[0mplt\u001b[0m\u001b[0;34m.\u001b[0m\u001b[0mfigure\u001b[0m\u001b[0;34m(\u001b[0m\u001b[0mfigsize\u001b[0m\u001b[0;34m=\u001b[0m\u001b[0;34m(\u001b[0m\u001b[0;36m10\u001b[0m\u001b[0;34m,\u001b[0m\u001b[0;36m7\u001b[0m\u001b[0;34m)\u001b[0m\u001b[0;34m)\u001b[0m\u001b[0;34m\u001b[0m\u001b[0;34m\u001b[0m\u001b[0m\n\u001b[1;32m      5\u001b[0m         \u001b[0msheet_final\u001b[0m \u001b[0;34m=\u001b[0m \u001b[0;34m[\u001b[0m\u001b[0;34m]\u001b[0m\u001b[0;34m\u001b[0m\u001b[0;34m\u001b[0m\u001b[0m\n",
      "\u001b[0;31mNameError\u001b[0m: name 'OLd' is not defined"
     ]
    }
   ],
   "source": [
    "OLd#interactive plot to set time normalization\n",
    "def interact_transform(Rzeroed, conc, window):\n",
    "    def transform_plot(rxn_order):\n",
    "        plt.figure(figsize=(10,7))\n",
    "        sheet_final = []\n",
    "        t_vtna = []\n",
    "        for i in range(len(Rzeroed)):\n",
    "            for j,col in enumerate(Rzeroed[i].columns):\n",
    "                if j > 0:\n",
    "                    sheet_final.append(Rzeroed[i][col].rolling(window[i]).mean())\n",
    "                    t_vtna.append(Rzeroed[i].iloc[:,0]*float(conc[i])**rxn_order)\n",
    "                    plt.scatter(t_vtna[i], sheet_final[i], marker='.',s = 15, color = 'r')\n",
    "        val = []\n",
    "        for i in range(len(Rzeroed)):\n",
    "            val.append((Rzeroed[i].iloc[:,0]*float(conc[i])**rxn_order).max())\n",
    "            endtime = max(val)\n",
    "        plt.xlim(-endtime/10, endtime+endtime/10)\n",
    "        plt.title('VTNA with {}. Order Treatment'.format(rxn_order))\n",
    "        plt.ylabel('Relative Abundance')\n",
    "        #three curly brackets for formatting decimale numbers as superscript\n",
    "        plt.xlabel('[Reagent]$^{{{}}}$dt'.format(str(rxn_order)))\n",
    "        #plt.legend([plot1,plot2],[str(conc)+' mM', str(conc2)+ ' mM'],loc = 'best')\n",
    "        plt.rc('font', size=14)\n",
    "        plt.tight_layout(True)\n",
    "        plt.show()\n",
    "    return interactive(transform_plot, \n",
    "                        rxn_order = ipywidgets.FloatSlider(min=0., max=3., step=0.01, value=0, \n",
    "                                                           description='Order', continuous_update=False))"
   ]
  },
  {
   "cell_type": "code",
   "execution_count": 15,
   "metadata": {
    "collapsed": true
   },
   "outputs": [],
   "source": [
    "#interactive plot to set time normalization\n",
    "def interact_transform(Rzeroed, conc, window):\n",
    "    def transform_plot(rxn_order):\n",
    "        plt.figure(figsize=(10,7))\n",
    "        sheet_final = []\n",
    "        t_vtna = []\n",
    "        for i in range(len(Rzeroed)):\n",
    "            for j,col in enumerate(Rzeroed[i].columns):\n",
    "                if j > 0:\n",
    "                    #sheet_final.append(Rzeroed[i][col].rolling(window[i]).mean())\n",
    "                    #t_vtna.append(Rzeroed[i].loc[:,0]*float(conc[i])**rxn_order)\n",
    "                    t_vtna = Rzeroed[i].iloc[:,0]*float(conc[i])**rxn_order\n",
    "                    smoothed = Rzeroed[i][col].rolling(window[i]).mean()\n",
    "                    plt.scatter(t_vtna, smoothed, marker='.',s = 15)\n",
    "        val = []\n",
    "        for i in range(len(Rzeroed)):\n",
    "            val.append((Rzeroed[i].iloc[:,0]*float(conc[i])**rxn_order).max())\n",
    "            endtime = max(val)\n",
    "        plt.xlim(-endtime/10, endtime+endtime/10)\n",
    "        plt.title('VTNA with {}. Order Treatment'.format(rxn_order))\n",
    "        plt.ylabel('Relative Abundance')\n",
    "        #three curly brackets for formatting decimale numbers as superscript\n",
    "        plt.xlabel('[Reagent]$^{{{}}}$dt'.format(str(rxn_order)))\n",
    "        #plt.legend([plot1,plot2],[str(conc)+' mM', str(conc2)+ ' mM'],loc = 'best')\n",
    "        plt.rc('font', size=14)\n",
    "        plt.tight_layout(True)\n",
    "        plt.show()\n",
    "    return interactive(transform_plot, \n",
    "                        rxn_order = ipywidgets.FloatSlider(min=0., max=3., step=0.01, value=0, \n",
    "                                                           description='Order', continuous_update=False))\n",
    "\n"
   ]
  },
  {
   "cell_type": "code",
   "execution_count": 16,
   "metadata": {
    "scrolled": true
   },
   "outputs": [
    {
     "data": {
      "application/vnd.jupyter.widget-view+json": {
       "model_id": "1c279eda48ce40dcb4be55fdf219792b",
       "version_major": 2,
       "version_minor": 0
      },
      "text/plain": [
       "A Jupyter Widget"
      ]
     },
     "metadata": {},
     "output_type": "display_data"
    }
   ],
   "source": [
    "trans = interact_transform(Rzeroed, conc, window)\n",
    "display(trans)"
   ]
  },
  {
   "cell_type": "code",
   "execution_count": 17,
   "metadata": {},
   "outputs": [
    {
     "name": "stdout",
     "output_type": "stream",
     "text": [
      "Your Reaction is 1.0. Order in Reagent\n",
      "\n"
     ]
    }
   ],
   "source": [
    "order = trans.children[0].value\n",
    "print(\"Your Reaction is {}. Order in Reagent\\n\".format(order))"
   ]
  },
  {
   "cell_type": "code",
   "execution_count": 34,
   "metadata": {},
   "outputs": [
    {
     "data": {
      "image/png": "[encoded data removed]",
      "text/plain": [
       "<Figure size 720x504 with 1 Axes>"
      ]
     },
     "metadata": {},
     "output_type": "display_data"
    }
   ],
   "source": [
    "#generate a final plot\n",
    "plt.figure(figsize=(10,7))\n",
    "R_final = []\n",
    "t_vtna = []\n",
    "for h in range(len(xl.sheet_names)):\n",
    "    for i,col in enumerate(Rzeroed[h].columns):\n",
    "        if i > 0:\n",
    "            t_vtna = Rzeroed[h].iloc[:,0]*float(conc[h])**order\n",
    "            smoothed = Rzeroed[h][col].rolling(window[h]).mean()\n",
    "            plt.scatter(t_vtna, smoothed, marker='.',s = 30)\n",
    "val = []\n",
    "for i in range(len(xl.sheet_names)):\n",
    "    val.append((Rzeroed[i].iloc[:,0]*float(conc[i])**order).max())\n",
    "    endtime = max(val)\n",
    "plt.xlim(-endtime/10, endtime+endtime/10)\n",
    "plt.ylabel('Relative Abundance')\n",
    "plt.xlabel('[Reagent]$^{{{}}}$dt'.format(str(order)))\n",
    "#plt.legend([plot1,plot2],[str(conc1)+' mM', str(conc2)+ ' mM'],loc = 'best')\n",
    "plt.tight_layout(True)\n",
    "plt.rc('font', size=20)\n",
    "#plt.savefig('VTNA_rawplot.png', dpi=600, filetype = 'png')\n",
    "plt.show()\n"
   ]
  },
  {
   "cell_type": "code",
   "execution_count": 40,
   "metadata": {},
   "outputs": [],
   "source": [
    "#save the new data\n",
    "data_out = []\n",
    "for i in range(len(xl.sheet_names)):\n",
    "    #data_out.append(pd.concat([t_vtna[h],Rzeroed[h]], axis=1))\n",
    "    data_out.append([t_vtna,Rzeroed])\n",
    "with open(\"data_out.txt\", 'w') as output:\n",
    "    for row in data_out:\n",
    "        output.write(str(row) + '\\n')"
   ]
  },
  {
   "cell_type": "code",
   "execution_count": 52,
   "metadata": {
    "collapsed": true
   },
   "outputs": [],
   "source": [
    "#catalyst poisoning\n",
    "#marked by suppressed activity at low concentrations\n",
    "#treat by lowering the effective concentration\n",
    "#function which creates interactive plot\n",
    "#must know order of reaction\n",
    "def interact_poisoning(Rzeroed, conc, rxn_order, window):\n",
    "    conc_min = min(conc)\n",
    "    def poisoned_plot(poison):\n",
    "        plt.figure(figsize=(10,7))\n",
    "        R_final = []\n",
    "        t_vtna = []\n",
    "        for h in range(len(xl.sheet_names)):\n",
    "            for i,col in enumerate(Rzeroed[h].columns):\n",
    "                if i > 0:\n",
    "                    R_final = Rzeroed[h][col].rolling(window[h]).mean()\n",
    "                    t_vtna = Rzeroed[h].iloc[:,0]*float(conc[h]-poison)**order\n",
    "                    plt.scatter(t_vtna, R_final, marker='.', s = 60)\n",
    "        val = []\n",
    "        for i in range(len(xl.sheet_names)):\n",
    "            val.append((Rzeroed[i].iloc[:,0]*float(conc[i])**order).max())\n",
    "            endtime = max(val)\n",
    "        plt.xlim(-endtime/10, endtime+endtime/10)\n",
    "        #plt.title('concentration units poisoning')\n",
    "        plt.ylabel('Relative Abundance')\n",
    "        #three curly brackets for formatting decimale numbers as superscript\n",
    "        plt.xlabel('[Catalyst-{}]$^{{{}}}$dt'.format(str(poison),str(rxn_order)))\n",
    "        #plt.legend([plot1,plot2],[str(conc1)+' mM', str(conc2)+ ' mM'],loc = 'best')\n",
    "        plt.rc('font', size=14)\n",
    "        plt.tight_layout(True)\n",
    "        plt.show()\n",
    "    return interactive(poisoned_plot, \n",
    "                        poison = ipywidgets.FloatSlider(min=0., max=conc_min, step=conc_min/500., value=0.000, \n",
    "                                                           description='{} - Posion'.format(conc_min), continuous_update=False))\n"
   ]
  },
  {
   "cell_type": "code",
   "execution_count": 53,
   "metadata": {},
   "outputs": [
    {
     "data": {
      "application/vnd.jupyter.widget-view+json": {
       "model_id": "7d955201586249a9be9daef07c0a5c47",
       "version_major": 2,
       "version_minor": 0
      },
      "text/plain": [
       "A Jupyter Widget"
      ]
     },
     "metadata": {},
     "output_type": "display_data"
    }
   ],
   "source": [
    "poisonedor = interact_poisoning(Rzeroed, conc, order, window)\n",
    "display(poisonedor)"
   ]
  },
  {
   "cell_type": "code",
   "execution_count": 54,
   "metadata": {},
   "outputs": [
    {
     "data": {
      "text/plain": [
       "0.098"
      ]
     },
     "execution_count": 54,
     "metadata": {},
     "output_type": "execute_result"
    }
   ],
   "source": [
    "poison = poisonedor.children[0].value\n",
    "poison"
   ]
  },
  {
   "cell_type": "code",
   "execution_count": 68,
   "metadata": {},
   "outputs": [
    {
     "data": {
      "image/png": "[encoded data removed]",
      "text/plain": [
       "<Figure size 720x504 with 1 Axes>"
      ]
     },
     "metadata": {},
     "output_type": "display_data"
    }
   ],
   "source": [
    "#generate a final plot\n",
    "plt.figure(figsize=(10,7))\n",
    "R_final = []\n",
    "t_vtna = []\n",
    "for h in range(len(xl.sheet_names)):\n",
    "    for i,col in enumerate(Rzeroed[h].columns):\n",
    "        if i > 0:\n",
    "            R_final = Rzeroed[h][col].rolling(window[h]).mean()\n",
    "            t_vtna = Rzeroed[h].iloc[:,0]*float(conc[h]-poison)**order\n",
    "            plt.scatter(t_vtna, R_final, marker='.', s = 60)\n",
    "val = []\n",
    "for i in range(len(xl.sheet_names)):\n",
    "    val.append((Rzeroed[i].iloc[:,0]*float(conc[i])**order).max())\n",
    "    endtime = max(val)\n",
    "plt.xlim(-endtime/10, endtime)\n",
    "plt.ylabel('Relative Abundance')\n",
    "plt.xlabel('([Co$_2$(CO)$_8$] - {} mM) $^{{{}}}$ dt'.format(poison,str(order)))\n",
    "#plt.legend([plot1,plot2],[str(conc1)+' mM', str(conc2)+ ' mM'],loc = 'best')\n",
    "plt.tight_layout(True)\n",
    "plt.rc('font', size=17)\n",
    "plt.savefig(\"329_vtna.png\", dpi = 200)\n",
    "plt.show()\n"
   ]
  },
  {
   "cell_type": "code",
   "execution_count": null,
   "metadata": {
    "collapsed": true
   },
   "outputs": [],
   "source": []
  }
 ],
 "metadata": {
  "kernelspec": {
   "display_name": "Python 3",
   "language": "python",
   "name": "python3"
  },
  "language_info": {
   "codemirror_mode": {
    "name": "ipython",
    "version": 3
   },
   "file_extension": ".py",
   "mimetype": "text/x-python",
   "name": "python",
   "nbconvert_exporter": "python",
   "pygments_lexer": "ipython3",
   "version": "3.6.8"
  }
 },
 "nbformat": 4,
 "nbformat_minor": 2
}
