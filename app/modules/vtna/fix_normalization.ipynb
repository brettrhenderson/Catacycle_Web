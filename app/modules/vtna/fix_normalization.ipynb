{
 "cells": [
  {
   "cell_type": "markdown",
   "metadata": {},
   "source": [
    "# Variable Time Normalization Analysis For Reaction Rates\n",
    "<center>\n",
    "    <img src=\"images/1orderrxn.png\" width=300 align=\"center\">      \n",
    "</center>\n",
    "\n",
    "## Jupyter Notebook Intro\n",
    "Ipython Notebooks are an excellent way to perform visual data analysis because they allow formatted text, code, and the code's output to exist side by side in the same document. Each of these components are grouped in boxes called **cells**, which are handy organizational tools that also make the notebook highly interactive. For example, a user might run a code cell that plots some data, inspect the date in the output cell that appears below it. If they want to tweak the plot, they can alter the code cell and re-run it without having to re-run any of the preceding cells. This modular design makes it easy to iterate quickly on data visualizations and analysis. \n",
    "\n",
    "### Cell Types\n",
    "The most common cell types are *code cells* and *markdown cells*. **Markdown cells**, like the one you are currently reading, allow the notebook author to format text using a simple markdown language, providing context, narrative, and/or instruction for the code cells in the notebook. **Code cells** are prefixed with a <span style=\"color: gray;\">[ ]:</span> and have special syntax highlighting to make the python code more readable and debuggable. When run, the cell prefix will look something like <span style=\"color: gray;\">[1]:</span>, where the integer in brackets indicates the order in which cells were run. This occasionally comes in handy when cells are dependent on each other. \n",
    "\n",
    "### Running Cells\n",
    "To run a cell, simply click it to highlight it, and then press **SHIFT+ENTER** on your keyboard, or click the \"Play\" button in the toolbar above the document. When cells execute, if they have any output to display, that output will appear in an output cell directly below the code. Furthermore, any variables defined in a cell are stored in memory until the ipython notebook kernel is restarted. If a cell freezes during execution, you can force it to stop by clicking the \"Stop\" (square) button above the document. If you would like to overwrite data or variables that have already been defined by running a code cell, simply rerun that code cell with the new data or click the \"Restart\" button (a cyclic arrow) above the document to completely restart the document's python interpreter and clear the memory. \n",
    "\n",
    "## How to Use this Notebook\n",
    "This notebook is designed to be run from top to bottom in order to perform VTNA analysis on reaction profiles obtained with Mass Spectrometry or NMR. \n",
    "\n",
    "* Keep this notebook in a folder that also contains the **vtna_helper.py** file. This file defines the functions used in this notebook.\n",
    "    \n",
    "* Run each cell in order, paying attention to the markdown instructions above the code, if it exists.\n",
    "\n",
    "* When prompted in the markdown, add the local file path to the data (an excel file) that you want to analyze. The path may be absolute or relative to this document. \n",
    "\n",
    "* Visualize your data using the following cells, and use the slider wdgets that appear to perform VTNA. "
   ]
  },
  {
   "cell_type": "markdown",
   "metadata": {},
   "source": [
    "### 0. Import necessary helper functions"
   ]
  },
  {
   "cell_type": "code",
   "execution_count": 17,
   "metadata": {},
   "outputs": [],
   "source": [
    "from vtna_helper import *\n",
    "import ipywidgets as widgets\n",
    "from ipywidgets import interactive\n",
    "import matplotlib.pyplot as plt"
   ]
  },
  {
   "cell_type": "markdown",
   "metadata": {},
   "source": [
    "### 1a. Add path to Data (USER INPUT REQUIRED)"
   ]
  },
  {
   "cell_type": "code",
   "execution_count": 2,
   "metadata": {},
   "outputs": [],
   "source": [
    "filename = \"../../static/sampledata/Hydroamination-Kinetics-Catalyst-Order.xlsx\""
   ]
  },
  {
   "cell_type": "markdown",
   "metadata": {},
   "source": [
    "### 1b. Import Data"
   ]
  },
  {
   "cell_type": "code",
   "execution_count": 3,
   "metadata": {},
   "outputs": [
    {
     "name": "stdout",
     "output_type": "stream",
     "text": [
      "Successfully imported data from 8 different monitored reactions labeled ['Sheet2', 'Sheet9', 'Sheet3', 'Sheet4', 'Sheet5', 'Sheet6', 'Sheet7', 'Sheet8'].\n",
      "\n",
      "Each reaction contained 1 different reactants labeled ['c/c0'].\n",
      "\n",
      "Note that if the reactant labels do not match what you had as thecolumn headers in Excel, \n",
      "it is because the labels differed across the different Excel sheets.\n"
     ]
    }
   ],
   "source": [
    "raw_data, sheet_names, rct_labels = load_raw(filename)\n",
    "print(\n",
    "    f'Successfully imported data from {len(sheet_names)} different monitored reactions labeled {sheet_names}.'\n",
    "    f'\\n\\nEach reaction contained {len(rct_labels)} different reactants labeled {rct_labels}.'\n",
    "    f'\\n\\nNote that if the reactant labels do not match what you had as the'\n",
    "    f'column headers in Excel, \\nit is because the labels differed across the different Excel sheets.'\n",
    ")"
   ]
  },
  {
   "cell_type": "markdown",
   "metadata": {},
   "source": [
    "### 2. Explore the Data"
   ]
  },
  {
   "cell_type": "code",
   "execution_count": 4,
   "metadata": {},
   "outputs": [
    {
     "data": {
      "application/vnd.jupyter.widget-view+json": {
       "model_id": "1469fc08017c421c8f2c6142b3d36e9e",
       "version_major": 2,
       "version_minor": 0
      },
      "text/plain": [
       "HBox(children=(SelectMultiple(description='Reactions to Plot', index=(0, 1, 2, 3, 4, 5, 6, 7), layout=Layout(h…"
      ]
     },
     "metadata": {},
     "output_type": "display_data"
    },
    {
     "data": {
      "application/vnd.jupyter.widget-view+json": {
       "model_id": "dc93d43ffe6d4261bea2c0db3118a79f",
       "version_major": 2,
       "version_minor": 0
      },
      "text/plain": [
       "Label(value='Starting Concentrations:')"
      ]
     },
     "metadata": {},
     "output_type": "display_data"
    },
    {
     "data": {
      "application/vnd.jupyter.widget-view+json": {
       "model_id": "b09ecab55dd24ffb9caeffcaaaf6c6d1",
       "version_major": 2,
       "version_minor": 0
      },
      "text/plain": [
       "GridBox(children=(FloatText(value=0.0, description='Rxn: Sheet2', style=DescriptionStyle(description_width='in…"
      ]
     },
     "metadata": {},
     "output_type": "display_data"
    }
   ],
   "source": [
    "rxns = widgets.SelectMultiple(\n",
    "    options=sheet_names,\n",
    "    value=sheet_names,\n",
    "    description='Reactions to Plot',\n",
    "    layout=widgets.Layout(width='30%', height='80px', margin='10px 0px 0px 0px'),\n",
    "    style={'description_width': 'initial'},\n",
    "    disabled=False\n",
    ")\n",
    "rcts = widgets.SelectMultiple(\n",
    "    options=rct_labels,\n",
    "    value=rct_labels,\n",
    "    description='Reactants to Plot',\n",
    "    layout=widgets.Layout(width='30%', height='80px', margin='10px 0px 0px 50px'),\n",
    "    style={'description_width': 'initial'},\n",
    "    disabled=False\n",
    ")\n",
    "concentrations = []\n",
    "for rxn in sheet_names:\n",
    "    concentrations.append(\n",
    "        widgets.FloatText(\n",
    "        value=0.0,\n",
    "        description=f'Rxn: {rxn}',\n",
    "        style={'description_width': 'initial'},\n",
    "        disabled=False\n",
    "        )\n",
    "    )\n",
    "            \n",
    "normalization_method = widgets.Dropdown(\n",
    "    options=['Max Value', 'Total Count', 'None'],\n",
    "    value='Max Value',\n",
    "    layout=widgets.Layout(width='30%', height='30px', margin='10px 0px 0px 50px'),\n",
    "    style={'description_width': 'initial'},\n",
    "    description='Normalization Method:',\n",
    "    disabled=False,\n",
    ")\n",
    "display(widgets.HBox([rxns, normalization_method, rcts]))\n",
    "display(widgets.Label(\"Starting Concentrations:\"))\n",
    "display(widgets.GridBox(concentrations, layout=widgets.Layout(grid_template_columns=f\"repeat(3, 33%)\")))"
   ]
  },
  {
   "cell_type": "code",
   "execution_count": 7,
   "metadata": {},
   "outputs": [
    {
     "data": {
      "image/png": "[encoded data removed]",
      "text/plain": [
       "<Figure size 432x432 with 1 Axes>"
      ]
     },
     "metadata": {
      "needs_background": "light"
     },
     "output_type": "display_data"
    }
   ],
   "source": [
    "# [0.0510,0.0578,0.0688,0.0750,0.104,0.125,0.127,0.142]\n",
    "concs = [conc.value for conc in concentrations]\n",
    "rxn_idxs = [sheet_names.index(val) for val in rxns.value]   # [0, 1]\n",
    "species = [rct_labels.index(val) for val in rcts.value]  # [0,1]\n",
    "normalization_method = \"MV\"\n",
    "\n",
    "selected = select_data(raw_data, rxn_idxs, species)\n",
    "\n",
    "totals = get_sheet_totals(normalization_method, selected)\n",
    "norm_data = normalize_columns(selected, totals)\n",
    "graph1=plot_vtna(norm_data, concs, order=0, marker_shape=\"^\", \n",
    "                  linestyle=':', markersize=5, guide_lines=True)"
   ]
  },
  {
   "cell_type": "code",
   "execution_count": 19,
   "metadata": {},
   "outputs": [],
   "source": [
    "#function which creates an interactive plot for user to zero their data and smooth datapoints\n",
    "#inner function only passes variables assigned to widgets\n",
    "#outer function allows interactive function to be used multpile times\n",
    "def interact_smoother(sheetnorm, maxtime, title, color):\n",
    "    def plot_smoothing(windowsize,zero_translate):\n",
    "        plt.figure(figsize=(9,5))\n",
    "        for i,col in enumerate(sheetnorm.columns):\n",
    "            if i > 0:\n",
    "                orig = plt.scatter(sheetnorm.iloc[:,0], sheetnorm[col], marker='.', \n",
    "                         s=14, color='k', alpha = 0.4, label='original')\n",
    "                sheet_final = (sheetnorm[col]).rolling(windowsize, center=True).mean()\n",
    "                smooth = plt.scatter(sheetnorm.iloc[:,0]+zero_translate, sheet_final, marker='.', \n",
    "                         s=14, color=color, label='smoother')\n",
    "                plt.xlim((-maxtime/12,maxtime/4))\n",
    "        plt.vlines(0, 0, 1., linestyle=':', linewidth = 1, color = 'k')\n",
    "        plt.hlines(0, -maxtime/12,maxtime/4, linestyle=':', linewidth = 1, color = 'k')\n",
    "        plt.hlines(1, -maxtime/12,maxtime/4, linestyle=':', linewidth = 1, color = 'k')\n",
    "        plt.title(title, fontsize = 16)\n",
    "        plt.xlabel('time', fontsize = 16)\n",
    "        plt.ylabel('Relative Abundance', fontsize = 16)\n",
    "        plt.legend((orig, smooth), ('original', 'new plot'), loc = 'center right')\n",
    "        plt.tight_layout()\n",
    "        plt.show()\n",
    "    return interactive(plot_smoothing, windowsize=widgets.IntSlider(min=1, max=80, step=3, value=1, \n",
    "                                                      description = 'smoothing', continuous_update=False), \n",
    "                       zero_translate=widgets.FloatSlider(min=-maxtime/4, max=0, step=0.05, value=0,\n",
    "                                                        description='set t=0', continuous_update=False))"
   ]
  },
  {
   "cell_type": "code",
   "execution_count": 21,
   "metadata": {},
   "outputs": [
    {
     "data": {
      "application/vnd.jupyter.widget-view+json": {
       "model_id": "09533a5bd2924cee869828ff8c60a4dc",
       "version_major": 2,
       "version_minor": 0
      },
      "text/plain": [
       "interactive(children=(IntSlider(value=1, continuous_update=False, description='smoothing', max=80, min=1, step…"
      ]
     },
     "metadata": {},
     "output_type": "display_data"
    },
    {
     "data": {
      "application/vnd.jupyter.widget-view+json": {
       "model_id": "ec5998ee4f944721ab4e45448f1d70d2",
       "version_major": 2,
       "version_minor": 0
      },
      "text/plain": [
       "interactive(children=(IntSlider(value=1, continuous_update=False, description='smoothing', max=80, min=1, step…"
      ]
     },
     "metadata": {},
     "output_type": "display_data"
    },
    {
     "data": {
      "application/vnd.jupyter.widget-view+json": {
       "model_id": "a660aa0109d44b8b8d77374912205118",
       "version_major": 2,
       "version_minor": 0
      },
      "text/plain": [
       "interactive(children=(IntSlider(value=1, continuous_update=False, description='smoothing', max=80, min=1, step…"
      ]
     },
     "metadata": {},
     "output_type": "display_data"
    }
   ],
   "source": [
    "#find max time to scale axes\n",
    "maxtime = get_max_times(norm_data)\n",
    "\n",
    "plot_smoothed = []\n",
    "for i in range(len(norm_data)):\n",
    "    plot_smoothed.append(interact_smoother(norm_data[i], maxtime[i], 'Reaction {}'.format(i+1), 'r'))\n",
    "    display(plot_smoothed[-1])\n"
   ]
  },
  {
   "cell_type": "code",
   "execution_count": null,
   "metadata": {},
   "outputs": [],
   "source": [
    "#save adjustment values\n",
    "zeroed_time = []\n",
    "window = []\n",
    "for i in range(len(xl.sheet_names)):\n",
    "    zeroed_time.append(plot_smoothed[i].children[1].value)\n",
    "    window.append(plot_smoothed[i].children[0].value)\n",
    "\n",
    "#Adjust t0 in normalized sheets\n",
    "Rzeroed = []\n",
    "for i in range(len(xl.sheet_names)):\n",
    "    Rzeroed.append(Rnorm[i].copy())\n",
    "    Rzeroed[i].iloc[:,0]=(Rnorm[i].iloc[:,0] + zeroed_time[i])\n"
   ]
  },
  {
   "cell_type": "code",
   "execution_count": null,
   "metadata": {},
   "outputs": [],
   "source": [
    "#interactive plot to set time normalization\n",
    "def interact_transform(Rzeroed, conc, window):\n",
    "    def transform_plot(rxn_order):\n",
    "        plt.figure(figsize=(10,7))\n",
    "        sheet_final = []\n",
    "        t_vtna = []\n",
    "        for i in range(len(Rzeroed)):\n",
    "            for j,col in enumerate(Rzeroed[i].columns):\n",
    "                if j > 0:\n",
    "                    sheet_final.append(Rzeroed[i][col].rolling(window[i]).mean())\n",
    "                    t_vtna.append(Rzeroed[i].iloc[:,0]*float(conc[i])**rxn_order)\n",
    "                    plt.scatter(t_vtna[i], sheet_final[i], marker='.',s = 15, color = 'r')\n",
    "        val = []\n",
    "        for i in range(len(Rzeroed)):\n",
    "            val.append((Rzeroed[i].iloc[:,0]*float(conc[i])**rxn_order).max())\n",
    "            endtime = max(val)\n",
    "        plt.xlim(-endtime/10, endtime+endtime/10)\n",
    "        plt.title('VTNA with {}. Order Treatment'.format(rxn_order))\n",
    "        plt.ylabel('Relative Abundance')\n",
    "        #three curly brackets for formatting decimale numbers as superscript\n",
    "        plt.xlabel('[Reagent]$^{{{}}}$dt'.format(str(rxn_order)))\n",
    "        #plt.legend([plot1,plot2],[str(conc)+' mM', str(conc2)+ ' mM'],loc = 'best')\n",
    "        plt.rc('font', size=14)\n",
    "        plt.tight_layout(True)\n",
    "        plt.show()\n",
    "    return interactive(transform_plot, \n",
    "                        rxn_order = ipywidgets.FloatSlider(min=0., max=3., step=0.01, value=0, \n",
    "                                                           description='Order', continuous_update=False))"
   ]
  },
  {
   "cell_type": "code",
   "execution_count": null,
   "metadata": {},
   "outputs": [],
   "source": [
    "#interactive plot to set time normalization\n",
    "def interact_transform(Rzeroed, conc, window):\n",
    "    def transform_plot(rxn_order):\n",
    "        plt.figure(figsize=(10,7))\n",
    "        sheet_final = []\n",
    "        t_vtna = []\n",
    "        for i in range(len(Rzeroed)):\n",
    "            for j,col in enumerate(Rzeroed[i].columns):\n",
    "                if j > 0:\n",
    "                    #sheet_final.append(Rzeroed[i][col].rolling(window[i]).mean())\n",
    "                    #t_vtna.append(Rzeroed[i].loc[:,0]*float(conc[i])**rxn_order)\n",
    "                    t_vtna = Rzeroed[i].iloc[:,0]*float(conc[i])**rxn_order\n",
    "                    smoothed = Rzeroed[i][col].rolling(window[i]).mean()\n",
    "                    plt.scatter(t_vtna, smoothed, marker='.',s = 15)\n",
    "        val = []\n",
    "        for i in range(len(Rzeroed)):\n",
    "            val.append((Rzeroed[i].iloc[:,0]*float(conc[i])**rxn_order).max())\n",
    "            endtime = max(val)\n",
    "        plt.xlim(-endtime/10, endtime+endtime/10)\n",
    "        plt.title('VTNA with {}. Order Treatment'.format(rxn_order))\n",
    "        plt.ylabel('Relative Abundance')\n",
    "        #three curly brackets for formatting decimale numbers as superscript\n",
    "        plt.xlabel('[Reagent]$^{{{}}}$dt'.format(str(rxn_order)))\n",
    "        #plt.legend([plot1,plot2],[str(conc)+' mM', str(conc2)+ ' mM'],loc = 'best')\n",
    "        plt.rc('font', size=14)\n",
    "        plt.tight_layout(True)\n",
    "        plt.show()\n",
    "    return interactive(transform_plot, \n",
    "                        rxn_order = ipywidgets.FloatSlider(min=0., max=3., step=0.01, value=0, \n",
    "                                                           description='Order', continuous_update=False))\n",
    "\n"
   ]
  },
  {
   "cell_type": "code",
   "execution_count": null,
   "metadata": {
    "scrolled": true
   },
   "outputs": [],
   "source": [
    "trans = interact_transform(Rzeroed, conc, window)\n",
    "display(trans)"
   ]
  },
  {
   "cell_type": "code",
   "execution_count": null,
   "metadata": {},
   "outputs": [],
   "source": [
    "order = trans.children[0].value\n",
    "print(\"Your Reaction is {}. Order in Reagent\\n\".format(order))"
   ]
  },
  {
   "cell_type": "code",
   "execution_count": null,
   "metadata": {},
   "outputs": [],
   "source": [
    "#generate a final plot\n",
    "#good formatting starts here\n",
    "palletteA = [\"#003267\",\"#12a4f1\",\"#808fbd\"]\n",
    "palletteB = [\"#e5de44\",\"#ef810e\",\"#a73232\"]\n",
    "font = {'family' : 'arial',\n",
    "        'weight' : 'normal',\n",
    "        'size'   : 16}\n",
    "plt.rc('font', **font)\n",
    "palletteC = palletteA + palletteB\n",
    "palletteD = [\"#e5de44\",\"#fbc316\",\"#ff9a00\",\"#ef810e\",'#005DFF','#2776FF','#4689FF','#669DFF','#7EACFF']\n",
    "plt.figure(figsize=(5,5))\n",
    "R_final = []\n",
    "t_vtna = []\n",
    "for h in range(len(xl.sheet_names)):\n",
    "    for i,col in enumerate(Rzeroed[h].columns):\n",
    "        if i > 0:\n",
    "            t_vtna = Rzeroed[h].iloc[:,0]*float(conc[h])**order\n",
    "            smoothed = Rzeroed[h][col].rolling(window[h]).mean()\n",
    "            plt.plot(t_vtna, smoothed, linestyle = ':', marker='.',markersize = 8, color = palletteD[h])\n",
    "val = []\n",
    "for i in range(len(xl.sheet_names)):\n",
    "    val.append((Rzeroed[i].iloc[:,0]*float(conc[i])**order).max())\n",
    "    endtime = max(val)\n",
    "plt.xlim(-endtime/10, endtime)\n",
    "plt.ylim(0,1.02)\n",
    "plt.xlim(0,6.5)\n",
    "plt.ylabel('Relative Abundance')\n",
    "plt.xlabel('[Zr cat]$^{{{}}}$dt'.format(str(order)))\n",
    "#plt.legend([plot1,plot2],[str(conc1)+' mM', str(conc2)+ ' mM'],loc = 'best')\n",
    "plt.tight_layout(True)\n",
    "#plt.rc('font', size=20)\n",
    "plt.savefig('VTNA_rawplot.png', dpi=200, filetype = 'png')\n",
    "frame1 = plt.gca()\n",
    "frame1.spines['top'].set_visible(False)\n",
    "frame1.spines['right'].set_visible(False)\n",
    "#plt.legend(frameon=False)\n",
    "plt.savefig('hydroamination_1storder.png', dpi=200, filetype = 'png')\n",
    "\n",
    "plt.show()\n"
   ]
  },
  {
   "cell_type": "code",
   "execution_count": null,
   "metadata": {},
   "outputs": [],
   "source": [
    "#original\n",
    "plt.figure(figsize=(5,5))\n",
    "R_final = []\n",
    "t_vtna = []\n",
    "for h in range(len(xl.sheet_names)):\n",
    "    for i,col in enumerate(Rzeroed[h].columns):\n",
    "        if i > 0:\n",
    "            t_vtna = Rzeroed[h].iloc[:,0]#*float(conc[h])**order\n",
    "            smoothed = Rzeroed[h][col].rolling(window[h]).mean()\n",
    "            plt.plot(t_vtna, smoothed, linestyle = ':', marker='.',markersize = 8, color = palletteD[h], label = concs[h])\n",
    "val = []\n",
    "for i in range(len(xl.sheet_names)):\n",
    "    val.append((Rzeroed[i].iloc[:,0]*float(conc[i])**order).max())\n",
    "    endtime = max(val)\n",
    "plt.ylim(0,1.02)\n",
    "plt.xlim(0,125)\n",
    "#plt.xlim(-endtime/10, endtime)\n",
    "plt.ylabel('[c]/[c]$_0$')\n",
    "plt.xlabel('$t$ (minutes)'.format(str(order)))\n",
    "#plt.legend([plot1,plot2],[str(conc1)+' mM', str(conc2)+ ' mM'],loc = 'best')\n",
    "plt.tight_layout(True)\n",
    "plt.savefig('VTNA_rawplot.png', dpi=200, filetype = 'png')\n",
    "frame1 = plt.gca()\n",
    "frame1.spines['top'].set_visible(False)\n",
    "frame1.spines['right'].set_visible(False)\n",
    "plt.legend(frameon=False, fontsize = 12)\n",
    "plt.savefig('hydroam_overlay.png', dpi=200, filetype = 'png')\n",
    "\n",
    "plt.show()"
   ]
  },
  {
   "cell_type": "code",
   "execution_count": null,
   "metadata": {},
   "outputs": [],
   "source": [
    "#save the new data\n",
    "data_out = []\n",
    "for i in range(len(xl.sheet_names)):\n",
    "    #data_out.append(pd.concat([t_vtna[h],Rzeroed[h]], axis=1))\n",
    "    data_out.append([t_vtna,Rzeroed])\n",
    "with open(\"data_out.txt\", 'w') as output:\n",
    "    for row in data_out:\n",
    "        output.write(str(row) + '\\n')"
   ]
  },
  {
   "cell_type": "code",
   "execution_count": null,
   "metadata": {},
   "outputs": [],
   "source": [
    "#catalyst poisoning\n",
    "#marked by suppressed activity at low concentrations\n",
    "#treat by lowering the effective concentration\n",
    "#function which creates interactive plot\n",
    "#must know order of reaction\n",
    "def interact_poisoning(Rzeroed, conc, rxn_order, window):\n",
    "    conc_min = min(conc)\n",
    "    def poisoned_plot(poison):\n",
    "        plt.figure(figsize=(10,7))\n",
    "        R_final = []\n",
    "        t_vtna = []\n",
    "        for h in range(len(xl.sheet_names)):\n",
    "            for i,col in enumerate(Rzeroed[h].columns):\n",
    "                if i > 0:\n",
    "                    R_final = Rzeroed[h][col].rolling(window[h]).mean()\n",
    "                    t_vtna = Rzeroed[h].iloc[:,0]*float(conc[h]-poison)**order\n",
    "                    plt.plot(t_vtna, R_final, linestyle = '--', marker='.', markersize = 10)\n",
    "        val = []\n",
    "        for i in range(len(xl.sheet_names)):\n",
    "            val.append((Rzeroed[i].iloc[:,0]*float(conc[i])**order).max())\n",
    "            endtime = max(val)\n",
    "        plt.xlim(-endtime/10, endtime+endtime/10)\n",
    "        #plt.title('concentration units poisoning')\n",
    "        plt.ylabel('Relative Abundance')\n",
    "        #three curly brackets for formatting decimale numbers as superscript\n",
    "        plt.xlabel('[Catalyst-{}]$^{{{}}}$dt'.format(str(poison),str(rxn_order)))\n",
    "        #plt.legend([plot1,plot2],[str(conc1)+' mM', str(conc2)+ ' mM'],loc = 'best')\n",
    "        plt.rc('font', size=14)\n",
    "        plt.tight_layout(True)\n",
    "        plt.show()\n",
    "    return interactive(poisoned_plot, \n",
    "                        poison = ipywidgets.FloatSlider(min=0., max=conc_min, step=conc_min/500., value=0.000, \n",
    "                                                           description='{} - Posion'.format(conc_min), continuous_update=False))\n"
   ]
  },
  {
   "cell_type": "code",
   "execution_count": null,
   "metadata": {},
   "outputs": [],
   "source": [
    "poisonedor = interact_poisoning(Rzeroed, conc, order, window)\n",
    "display(poisonedor)"
   ]
  },
  {
   "cell_type": "code",
   "execution_count": null,
   "metadata": {},
   "outputs": [],
   "source": [
    "poison = poisonedor.children[0].value\n",
    "poison"
   ]
  },
  {
   "cell_type": "code",
   "execution_count": null,
   "metadata": {},
   "outputs": [],
   "source": [
    "plt.figure(figsize=(5,5))\n",
    "R_final = []\n",
    "t_vtna = []\n",
    "for h in range(len(xl.sheet_names)):\n",
    "    for i,col in enumerate(Rzeroed[h].columns):\n",
    "        if i > 0:\n",
    "            t_vtna = Rzeroed[h].iloc[:,0]*float(conc[h]-poison)**order\n",
    "            smoothed = Rzeroed[h][col].rolling(window[h]).mean()\n",
    "            plt.plot(t_vtna, smoothed, linestyle = ':', marker ='.', markersize = 8, color = palletteD[h])\n",
    "val = []\n",
    "for i in range(len(xl.sheet_names)):\n",
    "    val.append((Rzeroed[i].iloc[:,0]*float(conc[i])**order).max())\n",
    "    endtime = max(val)\n",
    "plt.xlim(-endtime/10, endtime)\n",
    "plt.ylabel('Relative Abundance')\n",
    "plt.xlabel('([Zr cat]-0.0154 mM)$^{{{}}}$dt'.format(str(order)))\n",
    "#plt.legend([plot1,plot2],[str(conc1)+' mM', str(conc2)+ ' mM'],loc = 'best')\n",
    "plt.tight_layout(True)\n",
    "#plt.rc('font', size=20)\n",
    "plt.savefig('VTNA_rawplot.png', dpi=200, filetype = 'png')\n",
    "frame1 = plt.gca()\n",
    "frame1.spines['top'].set_visible(False)\n",
    "frame1.spines['right'].set_visible(False)\n",
    "#plt.legend(frameon=False)\n",
    "plt.savefig('hydroam_poisoncorrected.png', dpi=200, filetype = 'png')\n",
    "\n",
    "plt.show()"
   ]
  },
  {
   "cell_type": "code",
   "execution_count": null,
   "metadata": {},
   "outputs": [],
   "source": [
    "#generate a final plot\n",
    "plt.figure(figsize=(10,7))\n",
    "R_final = []\n",
    "t_vtna = []\n",
    "for h in range(len(xl.sheet_names)):\n",
    "    for i,col in enumerate(Rzeroed[h].columns):\n",
    "        if i > 0:\n",
    "            R_final = Rzeroed[h][col].rolling(window[h]).mean()\n",
    "            t_vtna = Rzeroed[h].iloc[:,0]*float(conc[h]-poison)**order\n",
    "            plt.scatter(t_vtna, R_final, marker='.', s = 60)\n",
    "val = []\n",
    "for i in range(len(xl.sheet_names)):\n",
    "    val.append((Rzeroed[i].iloc[:,0]*float(conc[i])**order).max())\n",
    "    endtime = max(val)\n",
    "plt.xlim(-endtime/10, endtime)\n",
    "plt.ylabel('Relative Abundance')\n",
    "plt.xlabel('([Co$_2$(CO)$_8$] - {} mM) $^{{{}}}$ dt'.format(poison,str(order)))\n",
    "#plt.legend([plot1,plot2],[str(conc1)+' mM', str(conc2)+ ' mM'],loc = 'best')\n",
    "plt.tight_layout(True)\n",
    "plt.rc('font', size=17)\n",
    "#plt.savefig(\"329_vtna.png\", dpi = 200)\n",
    "plt.show()\n"
   ]
  },
  {
   "cell_type": "code",
   "execution_count": null,
   "metadata": {},
   "outputs": [],
   "source": []
  }
 ],
 "metadata": {
  "kernelspec": {
   "display_name": "Python 3",
   "language": "python",
   "name": "python3"
  },
  "language_info": {
   "codemirror_mode": {
    "name": "ipython",
    "version": 3
   },
   "file_extension": ".py",
   "mimetype": "text/x-python",
   "name": "python",
   "nbconvert_exporter": "python",
   "pygments_lexer": "ipython3",
   "version": "3.8.5"
  }
 },
 "nbformat": 4,
 "nbformat_minor": 4
}
